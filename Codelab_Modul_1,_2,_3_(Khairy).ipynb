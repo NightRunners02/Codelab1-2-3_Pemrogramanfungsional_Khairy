{
  "nbformat": 4,
  "nbformat_minor": 0,
  "metadata": {
    "colab": {
      "provenance": [],
      "toc_visible": true
    },
    "kernelspec": {
      "name": "python3",
      "display_name": "Python 3"
    },
    "language_info": {
      "name": "python"
    }
  },
  "cells": [
    {
      "cell_type": "markdown",
      "source": [
        "# Codelab 1\n"
      ],
      "metadata": {
        "id": "Jv9AeZeF05GU"
      }
    },
    {
      "cell_type": "markdown",
      "source": [
        "\n",
        "**CODELAB 1**\n",
        "\n",
        "Dengan data yang telah disediakan, pisahkan antara nilai int, float, dan string dengan\n",
        "ketentuan sebagai berikut:\n",
        "1. Data float disimpan dalam tipe tuple\n",
        "2. Data string disimpan ke dalam list\n",
        "3. Data int disimpan dalam dictionary, dimana data satuan, puluhan dan ribuan akan dimasukkan ke dalam dictionary sebagai value.\n",
        "4. Kemudian tampilkan hasil nya seperti pada contoh."
      ],
      "metadata": {
        "id": "Bq4m1aJS-zXG"
      }
    },
    {
      "cell_type": "code",
      "source": [
        "floatTuple = []\n",
        "dataList = []\n",
        "intDict = {}\n",
        "\n",
        "random_list = [900, 3.1, 3078, \"Hello\", 737, \"Python\", 2.7, 2002, 50,\n",
        "               \"Tech Winter\", 7.566, 40, 1, \"Is\", 60.5, \"Better\", 1000.1,\n",
        "               4, \"world\", 412, 5.5, \"AI\", 99.234, 12000]\n",
        "\n",
        "for data in random_list:\n",
        "    if isinstance(data, float):\n",
        "\n",
        "        floatTuple.append(data)\n",
        "    elif isinstance(data, str):\n",
        "        dataList.append(data)\n",
        "    elif isinstance(data, int):\n",
        "        if data < 10:\n",
        "            intDict[data] = \"Satuan\"\n",
        "        elif data < 100:\n",
        "            intDict[data] = \"Puluhan\"\n",
        "        elif data < 1000:\n",
        "            intDict[data] = \"Ratusan\"\n",
        "        elif data >= 1000:\n",
        "            intDict[data] = \"Ribuan\"\n",
        "\n",
        "for key, value in intDict.items():\n",
        "  print(f\"{key} : {value}\")\n",
        "\n",
        "print(\"Float data list =\", tuple(floatTuple))\n",
        "print(\"String data list =\", dataList)\n",
        "print(\"Integer data list =\", intDict)"
      ],
      "metadata": {
        "colab": {
          "base_uri": "https://localhost:8080/"
        },
        "id": "Grk8XKtKPhK0",
        "outputId": "6a0d5344-397f-45e3-ee22-e2bbe7df9ef5"
      },
      "execution_count": null,
      "outputs": [
        {
          "output_type": "stream",
          "name": "stdout",
          "text": [
            "900 : Ratusan\n",
            "3078 : Ribuan\n",
            "737 : Ratusan\n",
            "2002 : Ribuan\n",
            "50 : Puluhan\n",
            "40 : Puluhan\n",
            "1 : Satuan\n",
            "4 : Satuan\n",
            "412 : Ratusan\n",
            "12000 : Ribuan\n",
            "Float data list = (3.1, 2.7, 7.566, 60.5, 1000.1, 5.5, 99.234)\n",
            "String data list = ['Hello', 'Python', 'Tech Winter', 'Is', 'Better', 'world', 'AI']\n",
            "Integer data list = {900: 'Ratusan', 3078: 'Ribuan', 737: 'Ratusan', 2002: 'Ribuan', 50: 'Puluhan', 40: 'Puluhan', 1: 'Satuan', 4: 'Satuan', 412: 'Ratusan', 12000: 'Ribuan'}\n"
          ]
        }
      ]
    },
    {
      "cell_type": "code",
      "source": [
        "data_dict = {\n",
        "    900: 'ratusan', 3078: 'ribuan', 737: 'ratusan', 2002: 'ribuan',\n",
        "    50: 'puluhan', 40: 'puluhan', 1: 'satuan', 4: 'satuan',\n",
        "    412: 'ratusan', 12000: 'ribuan'\n",
        "}\n",
        "\n",
        "string_list = ['Hello', 'Python', 'Tech Winter', 'Is', 'Better', 'world', 'AI']\n",
        "\n",
        "data_tuple = (3.1, 2.7, 7.566, 60.5, 1000.1, 5.5, 99.234)\n",
        "\n",
        "for key, value in data_dict.items():\n",
        "    print(f\"{key} = {value}\")\n",
        "\n",
        "print(\"string data list =\", string_list)\n",
        "\n",
        "print(\"data tuple =\", data_tuple)\n"
      ],
      "metadata": {
        "colab": {
          "base_uri": "https://localhost:8080/"
        },
        "id": "vxY4LQoY_aEN",
        "outputId": "eba18d36-972d-4d02-c890-1be619f4531f"
      },
      "execution_count": null,
      "outputs": [
        {
          "output_type": "stream",
          "name": "stdout",
          "text": [
            "900 = ratusan\n",
            "3078 = ribuan\n",
            "737 = ratusan\n",
            "2002 = ribuan\n",
            "50 = puluhan\n",
            "40 = puluhan\n",
            "1 = satuan\n",
            "4 = satuan\n",
            "412 = ratusan\n",
            "12000 = ribuan\n",
            "string data list = ['Hello', 'Python', 'Tech Winter', 'Is', 'Better', 'world', 'AI']\n",
            "data tuple = (3.1, 2.7, 7.566, 60.5, 1000.1, 5.5, 99.234)\n"
          ]
        }
      ]
    },
    {
      "cell_type": "code",
      "source": [
        "floatTuple = []\n",
        "dataList = []\n",
        "intDict = {}\n",
        "\n",
        "random_list = [900, 3.1, 3078, \"Hello\", 737, \"Python\", 2.7, 2002, 50,\n",
        "               \"Tech Winter\", 7.566, 40, 1, \"Is\", 60.5, \"Better\", 1000.1,\n",
        "               4, \"world\", 412, 5.5, \"AI\", 99.234, 12000]\n",
        "\n",
        "for data in random_list:\n",
        "    if isinstance(data, float):\n",
        "\n",
        "        floatTuple.append(data)\n",
        "    elif isinstance(data, str):\n",
        "        dataList.append(data)\n",
        "    elif isinstance(data, int):\n",
        "        if data < 10:\n",
        "            intDict[data] = \"Satuan\"\n",
        "        elif data < 100:\n",
        "            intDict[data] = \"Puluhan\"\n",
        "        elif data < 1000:\n",
        "            intDict[data] = \"Ratusan\"\n",
        "        elif data >= 1000:\n",
        "            intDict[data] = \"Ribuan\"\n",
        "\n",
        "for key, value in intDict.items():\n",
        "  print(f\"{key} : {value}\")\n",
        "\n",
        "print(\"Float data list =\", tuple(floatTuple))\n",
        "print(\"String data list =\", dataList)\n",
        "print(\"Integer data list =\", intDict)"
      ],
      "metadata": {
        "colab": {
          "base_uri": "https://localhost:8080/"
        },
        "id": "U-Y6ZhkOKL3W",
        "outputId": "30ddc86f-f8d9-43cc-90de-571a316d3d73"
      },
      "execution_count": null,
      "outputs": [
        {
          "output_type": "stream",
          "name": "stdout",
          "text": [
            "900 : Ratusan\n",
            "3078 : Ribuan\n",
            "737 : Ratusan\n",
            "2002 : Ribuan\n",
            "50 : Puluhan\n",
            "40 : Puluhan\n",
            "1 : Satuan\n",
            "4 : Satuan\n",
            "412 : Ratusan\n",
            "12000 : Ribuan\n",
            "Float data list = (3.1, 2.7, 7.566, 60.5, 1000.1, 5.5, 99.234)\n",
            "String data list = ['Hello', 'Python', 'Tech Winter', 'Is', 'Better', 'world', 'AI']\n",
            "Integer data list = {900: 'Ratusan', 3078: 'Ribuan', 737: 'Ratusan', 2002: 'Ribuan', 50: 'Puluhan', 40: 'Puluhan', 1: 'Satuan', 4: 'Satuan', 412: 'Ratusan', 12000: 'Ribuan'}\n"
          ]
        }
      ]
    },
    {
      "cell_type": "markdown",
      "source": [
        "# Codelab 2\n"
      ],
      "metadata": {
        "id": "x_MN-jz21JVM"
      }
    },
    {
      "cell_type": "markdown",
      "source": [
        " **CODELAB 2**\n",
        "\n",
        "Buatlah sebuah program untuk memisahkan data input user menjadi bilangan genap dan ganjil.\n",
        "Data input dipisah dengan spasi, data genap akan dimasukkan ke dalam list dan data ganjil akan dimasukkan ke dalam tuple. (Gunakan casting untuk menyamakan tipe data)\n",
        "Tampilkan hasil yang telah dibuat.\n",
        "\n"
      ],
      "metadata": {
        "id": "gs0stlSr_eAk"
      }
    },
    {
      "cell_type": "code",
      "source": [
        "def pisahkan_genap_ganjil(input_bilangan):\n",
        "    list_genap = []\n",
        "    list_ganjil = []\n",
        "\n",
        "    for x in input_bilangan.split():\n",
        "        bilangan = int(x)\n",
        "        if bilangan % 2 == 0:\n",
        "            list_genap.append(bilangan)\n",
        "        else:\n",
        "            list_ganjil.append(bilangan)\n",
        "\n",
        "    return list_genap, tuple(list_ganjil)\n",
        "\n",
        "input_bilangan = input(\"Masukkan beberapa bilangan yang dipisahkan oleh spasi: \")\n",
        "\n",
        "result_genap, result_ganjil = pisahkan_genap_ganjil(input_bilangan)\n",
        "\n",
        "print(\"hasil genap : \", result_genap)\n",
        "print(\"hasil ganjil : \", result_ganjil)\n"
      ],
      "metadata": {
        "colab": {
          "base_uri": "https://localhost:8080/"
        },
        "id": "oevJ-8bw_3w1",
        "outputId": "c413b69a-b738-43df-8538-029f51f44777"
      },
      "execution_count": null,
      "outputs": [
        {
          "output_type": "stream",
          "name": "stdout",
          "text": [
            "Masukkan beberapa bilangan yang dipisahkan oleh spasi: 4 5 6 7 9\n",
            "hasil genap :  [4, 6]\n",
            "hasil ganjil :  (5, 7, 9)\n"
          ]
        }
      ]
    },
    {
      "cell_type": "markdown",
      "source": [
        "# Codelab 3\n"
      ],
      "metadata": {
        "id": "I_vfmhVH1oKW"
      }
    },
    {
      "cell_type": "markdown",
      "source": [
        "**CODELAB 3**\n",
        "\n",
        "1. Buatlah sebuah kamus (dictionary) yang menyimpan data nilai untuk 5 mahasiswa dengan 3 mata kuliah berbeda.\n",
        "2. Buatlah fungsi untuk menghitung rata-rata nilai setiap mahasiswa.\n",
        "3. Buatlah fungsi untuk menghitung rata-rata nilai seluruh mahasiswa.\n"
      ],
      "metadata": {
        "id": "4hWzYRKuAmQr"
      }
    },
    {
      "cell_type": "code",
      "source": [
        "nilai_mahasiswa = {\n",
        "    \"Andi\": {\"Matematika\": 80, \"Fisika\": 75, \"Kimia\": 85},\n",
        "    \"Budi\": {\"Matematika\": 70, \"Fisika\": 65, \"Kimia\": 75},\n",
        "    \"Citra\": {\"Matematika\": 85, \"Fisika\": 90, \"Kimia\": 80},\n",
        "    \"Doni\": {\"Matematika\": 70, \"Fisika\": 60, \"Kimia\": 80},\n",
        "    \"Eva\": {\"Matematika\": 95, \"Fisika\": 85, \"Kimia\": 90}\n",
        "}\n",
        "\n",
        "def rata_rata_per_mahasiswa(nilai_mahasiswa):\n",
        "    rata_rata_mahasiswa = {}\n",
        "    for mahasiswa, nilai in nilai_mahasiswa.items():\n",
        "        total_nilai = sum(nilai.values())\n",
        "        rata_rata_mahasiswa[mahasiswa] = total_nilai / len(nilai)\n",
        "    return rata_rata_mahasiswa\n",
        "\n",
        "def rata_rata_semua_mahasiswa(nilai_mahasiswa):\n",
        "    total_nilai = 0\n",
        "    jumlah_nilai = 0\n",
        "    for nilai in nilai_mahasiswa.values():\n",
        "        total_nilai += sum(nilai.values())\n",
        "        jumlah_nilai += len(nilai)\n",
        "    return total_nilai / jumlah_nilai\n",
        "\n",
        "rata_mahasiswa = rata_rata_per_mahasiswa(nilai_mahasiswa)\n",
        "rata_semua_mahasiswa = rata_rata_semua_mahasiswa(nilai_mahasiswa)\n",
        "\n",
        "print(\"Rata-rata nilai per mahasiswa:\")\n",
        "for mahasiswa, rata in rata_mahasiswa.items():\n",
        "    print(f\"{mahasiswa}: {rata:.2f}\")\n",
        "\n",
        "print(f\"\\nRata-rata nilai seluruh mahasiswa: {rata_semua_mahasiswa:.2f}\")\n"
      ],
      "metadata": {
        "colab": {
          "base_uri": "https://localhost:8080/"
        },
        "id": "8yHWoTB7Bors",
        "outputId": "dbebc34e-1295-4a4a-f37e-57ffac969b55"
      },
      "execution_count": 3,
      "outputs": [
        {
          "output_type": "stream",
          "name": "stdout",
          "text": [
            "Rata-rata nilai per mahasiswa:\n",
            "Andi: 80.00\n",
            "Budi: 70.00\n",
            "Citra: 85.00\n",
            "Doni: 70.00\n",
            "Eva: 90.00\n",
            "\n",
            "Rata-rata nilai seluruh mahasiswa: 79.00\n"
          ]
        }
      ]
    }
  ]
}